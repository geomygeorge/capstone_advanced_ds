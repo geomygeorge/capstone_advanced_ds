{
    "nbformat_minor": 1, 
    "cells": [
        {
            "source": "# Predicting Solar Energy Production with Machine Learning", 
            "cell_type": "markdown", 
            "metadata": {
                "collapsed": true
            }
        }, 
        {
            "execution_count": 1, 
            "cell_type": "code", 
            "metadata": {}, 
            "outputs": [
                {
                    "output_type": "stream", 
                    "name": "stdout", 
                    "text": "Waiting for a Spark session to start...\nSpark Initialization Done! ApplicationId = app-20190902090013-0000\nKERNEL_ID = 5ec4b92b-16eb-452e-a46d-7862fc3b4b0b\nPixiedust database opened successfully\nTable VERSION_TRACKER created successfully\nTable METRICS_TRACKER created successfully\n\nShare anonymous install statistics? (opt-out instructions)\n\nPixieDust will record metadata on its environment the next time the package is installed or updated. The data is anonymized and aggregated to help plan for future releases, and records only the following values:\n\n{\n   \"data_sent\": currentDate,\n   \"runtime\": \"python\",\n   \"application_version\": currentPixiedustVersion,\n   \"space_id\": nonIdentifyingUniqueId,\n   \"config\": {\n       \"repository_id\": \"https://github.com/ibm-watson-data-lab/pixiedust\",\n       \"target_runtimes\": [\"Data Science Experience\"],\n       \"event_id\": \"web\",\n       \"event_organizer\": \"dev-journeys\"\n   }\n}\nYou can opt out by calling pixiedust.optOut() in a new cell.\n"
                }, 
                {
                    "output_type": "display_data", 
                    "data": {
                        "text/html": "\n        <div style=\"margin:10px\">\n            <a href=\"https://github.com/ibm-watson-data-lab/pixiedust\" target=\"_new\">\n                <img src=\"https://github.com/ibm-watson-data-lab/pixiedust/raw/master/docs/_static/pd_icon32.png\" style=\"float:left;margin-right:10px\"/>\n            </a>\n            <span>Pixiedust version 1.1.16</span>\n        </div>\n        ", 
                        "text/plain": "<IPython.core.display.HTML object>"
                    }, 
                    "metadata": {}
                }, 
                {
                    "output_type": "stream", 
                    "name": "stdout", 
                    "text": "\u001b[31mPixiedust runtime updated. Please restart kernel\u001b[0m\nTable SPARK_PACKAGES created successfully\nTable USER_PREFERENCES created successfully\nTable service_connections created successfully\n"
                }, 
                {
                    "output_type": "display_data", 
                    "data": {
                        "text/html": "<div>Warning: You are not running the latest version of PixieDust. Current is 1.1.16, Latest is 1.1.17</div>", 
                        "text/plain": "<IPython.core.display.HTML object>"
                    }, 
                    "metadata": {}
                }, 
                {
                    "output_type": "display_data", 
                    "data": {
                        "text/html": "\n                <div>Please copy and run the following command in a new cell to upgrade: <span style=\"background-color:#ececec;font-family:monospace;padding:0 5px\">!pip install --user --upgrade pixiedust</span></div>\n            ", 
                        "text/plain": "<IPython.core.display.HTML object>"
                    }, 
                    "metadata": {}
                }, 
                {
                    "output_type": "display_data", 
                    "data": {
                        "text/html": "<div>Please restart kernel after upgrading.</div>", 
                        "text/plain": "<IPython.core.display.HTML object>"
                    }, 
                    "metadata": {}
                }
            ], 
            "source": "import pyspark\nfrom pyspark import SparkConf\nfrom pyspark import SparkContext\nfrom pyspark.sql import SQLContext\nimport matplotlib\nimport matplotlib.pyplot as plt\nfrom pyspark.sql import Row\nfrom pyspark.sql.functions import UserDefinedFunction\nfrom pyspark.sql.types import *\nimport atexit\nfrom numpy import array\nimport numpy as np\nimport datetime\nimport pixiedust"
        }, 
        {
            "execution_count": 2, 
            "cell_type": "code", 
            "metadata": {}, 
            "outputs": [], 
            "source": "# The code was removed by Watson Studio for sharing."
        }, 
        {
            "execution_count": 3, 
            "cell_type": "code", 
            "metadata": {}, 
            "outputs": [], 
            "source": "#df_data_1.count()"
        }, 
        {
            "execution_count": 4, 
            "cell_type": "code", 
            "metadata": {}, 
            "outputs": [
                {
                    "execution_count": 4, 
                    "metadata": {}, 
                    "data": {
                        "text/plain": "DataFrame[Data Provider: string, System ID (from Data Provider): string, System ID (Tracking the Sun): string, Installation Date: string, System Size: string, Total Installed Price: string, Appraised Value Flag: string, Sales Tax Cost: string, Rebate or Grant: string, Performance-Based Incentive (Annual Payment): string, Performance-Based Incentives (Duration): string, Feed-in Tariff (Annual Payment): string, Feed-in Tariff (Duration): string, Customer Segment: string, New Construction: string, Tracking: string, Tracking Type: string, Ground Mounted: string, Battery System: string, Zip Code: string, City: string, County: string, State: string, Utility Service Territory: string, Third-Party Owned: string, Installer Name: string, Self-Installed: string, Azimuth #1: string, Azimuth #2: string, Azimuth #3: string, Tilt #1: string, Tilt #2: string, Tilt #3: string, Module Manufacturer #1: string, Module Model #1: string, Module Manufacturer #2: string, Module Model #2: string, Module Manufacturer #3: string, Module Model #3: string, Additional module model: string, Module Technology #1: string, Module Technology #2: string, Module Technology #3: string, BIPV Module #1: string, BIPV Module #2: string, BIPV Module #3: string, Module Efficiency #1: string, Module Efficiency #2: string, Module Efficiency #3: string, Inverter Manufacturer #1: string, Inverter Model #1: string, Inverter Quantity #1: string, Inverter Manufacturer #2: string, Inverter Model #2: string, Inverter Quantity #2: string, Inverter Manufacturer #3: string, Inverter Model #3: string, Inverter Quantity #3: string, Additional inverter model: string, Microinverter #1: string, Microinverter #2: string, Microinverter #3: string, DC Optimizer: string]"
                    }, 
                    "output_type": "execute_result"
                }
            ], 
            "source": "df_data_1.cache() # Cache data for faster reuse"
        }, 
        {
            "execution_count": 5, 
            "cell_type": "code", 
            "metadata": {}, 
            "outputs": [], 
            "source": "#df_data_1.dtypes"
        }, 
        {
            "execution_count": 6, 
            "cell_type": "code", 
            "metadata": {}, 
            "outputs": [], 
            "source": "# REGISTER DATA-FRAME AS A TEMP-TABLE IN SQL-CONTEXT\ndf_data_1.createOrReplaceTempView(\"track_sun\")"
        }, 
        {
            "execution_count": 7, 
            "cell_type": "code", 
            "metadata": {}, 
            "outputs": [], 
            "source": "sql_df = spark.sql(\"SELECT count(*) FROM track_sun WHERE Tracking != -9999\")"
        }, 
        {
            "source": "## Filter System size and Total installed price colums with unknown values (-9999)", 
            "cell_type": "markdown", 
            "metadata": {}
        }, 
        {
            "execution_count": 8, 
            "cell_type": "code", 
            "metadata": {
                "scrolled": true
            }, 
            "outputs": [], 
            "source": "filtered_df = df_data_1.filter(df_data_1['Total Installed Price'] != \"-9999\").filter(df_data_1['System Size'] != \"-9999\")"
        }, 
        {
            "execution_count": 9, 
            "cell_type": "code", 
            "metadata": {}, 
            "outputs": [], 
            "source": "#df_data_1.select(df_data_1['Module Efficiency #1'].cast(FloatType())).describe().show()\n"
        }, 
        {
            "execution_count": 10, 
            "cell_type": "code", 
            "metadata": {}, 
            "outputs": [
                {
                    "output_type": "stream", 
                    "name": "stdout", 
                    "text": "Total Installed Price\nSystem Size\nSales Tax Cost\nRebate or Grant\nPerformance-Based Incentive (Annual Payment)\nPerformance-Based Incentives (Duration)\nFeed-in Tariff (Annual Payment)\nFeed-in Tariff (Duration)\nModule Efficiency #1\nModule Efficiency #2\nModule Efficiency #3\n"
                }
            ], 
            "source": "all_columns = filtered_df.columns\ntypecasted_colums = ['Total Installed Price', \n                'System Size',\n                'Sales Tax Cost',\n                'Rebate or Grant',\n                'Performance-Based Incentive (Annual Payment)',\n                    'Performance-Based Incentives (Duration)',\n                    'Feed-in Tariff (Annual Payment)',\n                    'Feed-in Tariff (Duration)',\n                    'Module Efficiency #1',\n                    'Module Efficiency #2',\n                    'Module Efficiency #3',\n                    ]\n\nfor item in typecasted_colums:\n    print(item)\n    colums_to_select = all_columns.remove(item)\n"
        }, 
        {
            "execution_count": 35, 
            "cell_type": "code", 
            "metadata": {}, 
            "outputs": [], 
            "source": "# trackingDf_castd = trackingDf.select(trackingDf['Total Installed Price'].cast(FloatType()),\n#                                     trackingDf['System Size'].cast(FloatType())\n#                                     , trackingDf['Sales Tax Cost'].cast(FloatType())\n#                                     , trackingDf['Rebate or Grant'].cast(FloatType())\n#                                     , trackingDf['Performance-Based Incentive (Annual Payment)'].cast(FloatType())\n#                                     , trackingDf['Performance-Based Incentives (Duration)'].cast(FloatType())\n#                                     , trackingDf['Feed-in Tariff (Annual Payment)'].cast(FloatType())\n#                                     , trackingDf['Feed-in Tariff (Duration)'].cast(IntegerType())\n#                                     , trackingDf['Module Efficiency #1'].cast(IntegerType())                                              \n#                                     , trackingDf['Module Efficiency #2'].cast(IntegerType())                                              \n#                                     , trackingDf['Module Efficiency #3'].cast(IntegerType())                                                                \n#                                     )                                                                          \n\ntrackingDf_castd = filtered_df.select(filtered_df['Total Installed Price'].cast(FloatType()),\n                                    filtered_df['System Size'].cast(FloatType())\n                                    , filtered_df['Sales Tax Cost'].cast(FloatType())\n                                    , filtered_df['Rebate or Grant'].cast(FloatType())\n                                    , filtered_df['Performance-Based Incentive (Annual Payment)'].cast(FloatType())\n                                    , filtered_df['Performance-Based Incentives (Duration)'].cast(FloatType())\n                                    , filtered_df['Feed-in Tariff (Annual Payment)'].cast(FloatType())\n                                    , filtered_df['Feed-in Tariff (Duration)'].cast(IntegerType())\n                                    #, filtered_df['Module Efficiency #1'].cast(IntegerType())                                              \n                                    #, filtered_df['Module Efficiency #2'].cast(IntegerType())                                              \n                                    , filtered_df['Module Efficiency #3'].cast(IntegerType())                                                                \n                                    )#, *all_columns)      "
        }, 
        {
            "execution_count": 36, 
            "cell_type": "code", 
            "metadata": {}, 
            "outputs": [], 
            "source": "from pyspark.sql.functions import col"
        }, 
        {
            "execution_count": 37, 
            "cell_type": "code", 
            "metadata": {}, 
            "outputs": [
                {
                    "output_type": "stream", 
                    "name": "stdout", 
                    "text": "+---------------------+-----------+--------------+---------------+--------------------------------------------+---------------------------------------+-------------------------------+-------------------------+--------------------+\n|Total Installed Price|System Size|Sales Tax Cost|Rebate or Grant|Performance-Based Incentive (Annual Payment)|Performance-Based Incentives (Duration)|Feed-in Tariff (Annual Payment)|Feed-in Tariff (Duration)|Module Efficiency #3|\n+---------------------+-----------+--------------+---------------+--------------------------------------------+---------------------------------------+-------------------------------+-------------------------+--------------------+\n+---------------------+-----------+--------------+---------------+--------------------------------------------+---------------------------------------+-------------------------------+-------------------------+--------------------+\n\n"
                }
            ], 
            "source": "trackingDf_castd.where(col('Module Efficiency #3').isNull()).show()"
        }, 
        {
            "execution_count": 48, 
            "cell_type": "code", 
            "metadata": {}, 
            "outputs": [], 
            "source": "from pyspark.ml.stat import Correlation\nfrom pyspark.ml.feature import VectorAssembler\n# convert to vector column first\nvector_col = \"corr_features\"\nassembler = VectorAssembler(inputCols=trackingDf_castd.columns, outputCol=vector_col)\ndf_vector = assembler.transform(trackingDf_castd).select(vector_col)"
        }, 
        {
            "execution_count": 49, 
            "cell_type": "code", 
            "metadata": {}, 
            "outputs": [], 
            "source": "# get correlation matrix\nmatrix = Correlation.corr(df_vector, vector_col)"
        }, 
        {
            "execution_count": 50, 
            "cell_type": "code", 
            "metadata": {}, 
            "outputs": [
                {
                    "output_type": "stream", 
                    "name": "stdout", 
                    "text": "[[1.0, 0.0005643806889079997, 0.02363997747827731, 0.008347081383240602, 0.028625338877770332, 0.016210626939741585, nan, nan, 0.0007712327885840696], [0.0005643806889079997, 1.0, 0.005046597046121391, 0.0031248088983354236, 0.010358205542257012, 0.047032520744288736, nan, nan, 0.00012704231800963274], [0.02363997747827731, 0.005046597046121391, 1.0, 0.43144565289100795, 0.6686609544711054, 0.19855550183798165, nan, nan, 0.02775548154737941], [0.008347081383240602, 0.0031248088983354236, 0.43144565289100795, 1.0, -0.003026831960382238, -0.005044569200525947, nan, nan, 0.005606690929400227], [0.028625338877770332, 0.010358205542257012, 0.6686609544711054, -0.003026831960382238, 1.0, 0.39628341973714293, nan, nan, 0.02200612040335396], [0.016210626939741585, 0.047032520744288736, 0.19855550183798165, -0.005044569200525947, 0.39628341973714293, 1.0, nan, nan, 0.010988401160726182], [nan, nan, nan, nan, nan, nan, 1.0, nan, nan], [nan, nan, nan, nan, nan, nan, nan, 1.0, nan], [0.0007712327885840696, 0.00012704231800963274, 0.02775548154737941, 0.005606690929400227, 0.02200612040335396, 0.010988401160726182, nan, nan, 1.0]]\n"
                }
            ], 
            "source": "matrix = matrix.collect()[0][0]\ncorrmatrix = matrix.toArray().tolist()\nprint(corrmatrix)"
        }, 
        {
            "execution_count": 52, 
            "cell_type": "code", 
            "metadata": {}, 
            "outputs": [
                {
                    "output_type": "stream", 
                    "name": "stdout", 
                    "text": "+---------------------+--------------------+--------------------+--------------------+--------------------------------------------+---------------------------------------+-------------------------------+-------------------------+--------------------+\n|Total Installed Price|         System Size|      Sales Tax Cost|     Rebate or Grant|Performance-Based Incentive (Annual Payment)|Performance-Based Incentives (Duration)|Feed-in Tariff (Annual Payment)|Feed-in Tariff (Duration)|Module Efficiency #3|\n+---------------------+--------------------+--------------------+--------------------+--------------------------------------------+---------------------------------------+-------------------------------+-------------------------+--------------------+\n|                  1.0|5.643806889079997E-4| 0.02363997747827731|0.008347081383240602|                        0.028625338877770332|                   0.016210626939741585|                            NaN|                      NaN|7.712327885840696E-4|\n| 5.643806889079997E-4|                 1.0|0.005046597046121391|0.003124808898335...|                        0.010358205542257012|                   0.047032520744288736|                            NaN|                      NaN|1.270423180096327...|\n|  0.02363997747827731|0.005046597046121391|                 1.0| 0.43144565289100795|                          0.6686609544711054|                    0.19855550183798165|                            NaN|                      NaN| 0.02775548154737941|\n| 0.008347081383240602|0.003124808898335...| 0.43144565289100795|                 1.0|                        -0.00302683196038...|                   -0.00504456920052...|                            NaN|                      NaN|0.005606690929400227|\n| 0.028625338877770332|0.010358205542257012|  0.6686609544711054|-0.00302683196038...|                                         1.0|                    0.39628341973714293|                            NaN|                      NaN| 0.02200612040335396|\n| 0.016210626939741585|0.047032520744288736| 0.19855550183798165|-0.00504456920052...|                         0.39628341973714293|                                    1.0|                            NaN|                      NaN|0.010988401160726182|\n|                  NaN|                 NaN|                 NaN|                 NaN|                                         NaN|                                    NaN|                            1.0|                      NaN|                 NaN|\n|                  NaN|                 NaN|                 NaN|                 NaN|                                         NaN|                                    NaN|                            NaN|                      1.0|                 NaN|\n| 7.712327885840696E-4|1.270423180096327...| 0.02775548154737941|0.005606690929400227|                         0.02200612040335396|                   0.010988401160726182|                            NaN|                      NaN|                 1.0|\n+---------------------+--------------------+--------------------+--------------------+--------------------------------------------+---------------------------------------+-------------------------------+-------------------------+--------------------+\n\n"
                }
            ], 
            "source": "df_corr = spark.createDataFrame(corrmatrix,trackingDf_castd.columns)\ndf_corr.show()"
        }, 
        {
            "execution_count": 54, 
            "cell_type": "code", 
            "metadata": {
                "pixiedust": {
                    "displayParams": {
                        "handlerId": "tableView", 
                        "valueFields": "Total Installed Price", 
                        "keyFields": "System Size"
                    }
                }
            }, 
            "outputs": [
                {
                    "output_type": "display_data", 
                    "data": {
                        "image/png": "[encoded data removed]", 
                        "text/plain": "<Figure size 432x288 with 2 Axes>"
                    }, 
                    "metadata": {
                        "needs_background": "light"
                    }
                }
            ], 
            "source": "def plot_corr_matrix(correlations,attr,fig_no):\n    fig=plt.figure(fig_no)\n    ax=fig.add_subplot(111)\n    ax.set_title(\"Correlation Matrix for Specified Attributes\")\n    ax.set_xticklabels(['']+attr)\n    ax.set_yticklabels(['']+attr)\n    cax=ax.matshow(correlations,vmax=1,vmin=-1)\n    fig.colorbar(cax)\n    plt.show()\n\nplot_corr_matrix(corrmatrix, trackingDf_castd.columns, 334)"
        }, 
        {
            "execution_count": null, 
            "cell_type": "code", 
            "metadata": {}, 
            "outputs": [], 
            "source": "sampledf = trackingDf_castd.sample(False, 0.1, 42)\nsampledf.col('Total Installed Price')"
        }, 
        {
            "execution_count": null, 
            "cell_type": "code", 
            "metadata": {
                "pixiedust": {
                    "displayParams": {
                        "rowCount": "500", 
                        "handlerId": "histogram", 
                        "valueFields": "Total Installed Price"
                    }
                }, 
                "scrolled": true
            }, 
            "outputs": [], 
            "source": "display(trackingDf_castd.sample(False, 0.2, 42))"
        }, 
        {
            "execution_count": null, 
            "cell_type": "code", 
            "metadata": {
                "pixiedust": {
                    "displayParams": {
                        "handlerId": "histogram"
                    }
                }
            }, 
            "outputs": [], 
            "source": "df_data_1.select('Module Efficiency #2').describe().show()"
        }, 
        {
            "execution_count": null, 
            "cell_type": "code", 
            "metadata": {}, 
            "outputs": [], 
            "source": "df_data_1.select('Azimuth #1').show(10)"
        }, 
        {
            "execution_count": null, 
            "cell_type": "code", 
            "metadata": {}, 
            "outputs": [], 
            "source": ""
        }
    ], 
    "metadata": {
        "kernelspec": {
            "display_name": "Python 3.6 with Spark", 
            "name": "python36", 
            "language": "python3"
        }, 
        "language_info": {
            "mimetype": "text/x-python", 
            "nbconvert_exporter": "python", 
            "version": "3.6.8", 
            "name": "python", 
            "file_extension": ".py", 
            "pygments_lexer": "ipython3", 
            "codemirror_mode": {
                "version": 3, 
                "name": "ipython"
            }
        }
    }, 
    "nbformat": 4
}