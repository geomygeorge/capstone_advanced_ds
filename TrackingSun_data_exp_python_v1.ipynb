{
    "nbformat_minor": 1, 
    "cells": [
        {
            "source": "# Predicting Solar Energy Production with Machine Learning", 
            "cell_type": "markdown", 
            "metadata": {
                "collapsed": true
            }
        }, 
        {
            "execution_count": 3, 
            "cell_type": "code", 
            "metadata": {}, 
            "outputs": [
                {
                    "output_type": "stream", 
                    "name": "stdout", 
                    "text": "Pixiedust database opened successfully\nTable VERSION_TRACKER created successfully\nTable METRICS_TRACKER created successfully\n\nShare anonymous install statistics? (opt-out instructions)\n\nPixieDust will record metadata on its environment the next time the package is installed or updated. The data is anonymized and aggregated to help plan for future releases, and records only the following values:\n\n{\n   \"data_sent\": currentDate,\n   \"runtime\": \"python\",\n   \"application_version\": currentPixiedustVersion,\n   \"space_id\": nonIdentifyingUniqueId,\n   \"config\": {\n       \"repository_id\": \"https://github.com/ibm-watson-data-lab/pixiedust\",\n       \"target_runtimes\": [\"Data Science Experience\"],\n       \"event_id\": \"web\",\n       \"event_organizer\": \"dev-journeys\"\n   }\n}\nYou can opt out by calling pixiedust.optOut() in a new cell.\n"
                }, 
                {
                    "output_type": "display_data", 
                    "data": {
                        "text/html": "\n        <div style=\"margin:10px\">\n            <a href=\"https://github.com/ibm-watson-data-lab/pixiedust\" target=\"_new\">\n                <img src=\"https://github.com/ibm-watson-data-lab/pixiedust/raw/master/docs/_static/pd_icon32.png\" style=\"float:left;margin-right:10px\"/>\n            </a>\n            <span>Pixiedust version 1.1.16</span>\n        </div>\n        ", 
                        "text/plain": "<IPython.core.display.HTML object>"
                    }, 
                    "metadata": {}
                }, 
                {
                    "output_type": "stream", 
                    "name": "stdout", 
                    "text": "\u001b[31mPixiedust runtime updated. Please restart kernel\u001b[0m\nTable SPARK_PACKAGES created successfully\nTable USER_PREFERENCES created successfully\nTable service_connections created successfully\n"
                }, 
                {
                    "output_type": "display_data", 
                    "data": {
                        "text/html": "<div>Warning: You are not running the latest version of PixieDust. Current is 1.1.16, Latest is 1.1.17</div>", 
                        "text/plain": "<IPython.core.display.HTML object>"
                    }, 
                    "metadata": {}
                }, 
                {
                    "output_type": "display_data", 
                    "data": {
                        "text/html": "\n                <div>Please copy and run the following command in a new cell to upgrade: <span style=\"background-color:#ececec;font-family:monospace;padding:0 5px\">!pip install --user --upgrade pixiedust</span></div>\n            ", 
                        "text/plain": "<IPython.core.display.HTML object>"
                    }, 
                    "metadata": {}
                }, 
                {
                    "output_type": "display_data", 
                    "data": {
                        "text/html": "<div>Please restart kernel after upgrading.</div>", 
                        "text/plain": "<IPython.core.display.HTML object>"
                    }, 
                    "metadata": {}
                }
            ], 
            "source": "import pyspark\nfrom pyspark import SparkConf\nfrom pyspark import SparkContext\nfrom pyspark.sql import SQLContext\nimport matplotlib\nimport matplotlib.pyplot as plt\nfrom pyspark.sql import Row\nfrom pyspark.sql.functions import UserDefinedFunction\nfrom pyspark.sql.types import *\nimport atexit\nfrom numpy import array\nimport numpy as np\nimport datetime\nimport pixiedust"
        }, 
        {
            "execution_count": 4, 
            "cell_type": "code", 
            "metadata": {}, 
            "outputs": [], 
            "source": "# The code was removed by Watson Studio for sharing."
        }, 
        {
            "execution_count": 5, 
            "cell_type": "code", 
            "metadata": {}, 
            "outputs": [], 
            "source": "#df_data_1.count()"
        }, 
        {
            "execution_count": 6, 
            "cell_type": "code", 
            "metadata": {}, 
            "outputs": [
                {
                    "execution_count": 6, 
                    "metadata": {}, 
                    "data": {
                        "text/plain": "DataFrame[Data Provider: string, System ID (from Data Provider): string, System ID (Tracking the Sun): string, Installation Date: string, System Size: string, Total Installed Price: string, Appraised Value Flag: string, Sales Tax Cost: string, Rebate or Grant: string, Performance-Based Incentive (Annual Payment): string, Performance-Based Incentives (Duration): string, Feed-in Tariff (Annual Payment): string, Feed-in Tariff (Duration): string, Customer Segment: string, New Construction: string, Tracking: string, Tracking Type: string, Ground Mounted: string, Battery System: string, Zip Code: string, City: string, County: string, State: string, Utility Service Territory: string, Third-Party Owned: string, Installer Name: string, Self-Installed: string, Azimuth #1: string, Azimuth #2: string, Azimuth #3: string, Tilt #1: string, Tilt #2: string, Tilt #3: string, Module Manufacturer #1: string, Module Model #1: string, Module Manufacturer #2: string, Module Model #2: string, Module Manufacturer #3: string, Module Model #3: string, Additional module model: string, Module Technology #1: string, Module Technology #2: string, Module Technology #3: string, BIPV Module #1: string, BIPV Module #2: string, BIPV Module #3: string, Module Efficiency #1: string, Module Efficiency #2: string, Module Efficiency #3: string, Inverter Manufacturer #1: string, Inverter Model #1: string, Inverter Quantity #1: string, Inverter Manufacturer #2: string, Inverter Model #2: string, Inverter Quantity #2: string, Inverter Manufacturer #3: string, Inverter Model #3: string, Inverter Quantity #3: string, Additional inverter model: string, Microinverter #1: string, Microinverter #2: string, Microinverter #3: string, DC Optimizer: string]"
                    }, 
                    "output_type": "execute_result"
                }
            ], 
            "source": "df_data_1.cache() # Cache data for faster reuse"
        }, 
        {
            "execution_count": 7, 
            "cell_type": "code", 
            "metadata": {}, 
            "outputs": [], 
            "source": "#df_data_1.dtypes"
        }, 
        {
            "execution_count": 8, 
            "cell_type": "code", 
            "metadata": {}, 
            "outputs": [], 
            "source": "# REGISTER DATA-FRAME AS A TEMP-TABLE IN SQL-CONTEXT\ndf_data_1.createOrReplaceTempView(\"track_sun\")"
        }, 
        {
            "execution_count": 9, 
            "cell_type": "code", 
            "metadata": {}, 
            "outputs": [], 
            "source": "sql_df = spark.sql(\"SELECT count(*) FROM track_sun WHERE Tracking != -9999\")"
        }, 
        {
            "source": "## Filter System size and Total installed price colums with -9999", 
            "cell_type": "markdown", 
            "metadata": {}
        }, 
        {
            "execution_count": 10, 
            "cell_type": "code", 
            "metadata": {
                "scrolled": true
            }, 
            "outputs": [], 
            "source": "trackingDf = df_data_1.filter(df_data_1['Total Installed Price'] != \"-9999\").filter(df_data_1['System Size'] != \"-9999\")"
        }, 
        {
            "execution_count": 11, 
            "cell_type": "code", 
            "metadata": {}, 
            "outputs": [
                {
                    "output_type": "stream", 
                    "name": "stdout", 
                    "text": "+-------+--------------------+\n|summary|Module Efficiency #1|\n+-------+--------------------+\n|  count|              700000|\n|   mean| -1853.2513051158517|\n| stddev|   3885.548676665406|\n|    min|             -9999.0|\n|    max|          0.22699386|\n+-------+--------------------+\n\n"
                }
            ], 
            "source": "df_data_1.select(df_data_1['Module Efficiency #1'].cast(FloatType())).describe().show()\n"
        }, 
        {
            "execution_count": 24, 
            "cell_type": "code", 
            "metadata": {}, 
            "outputs": [], 
            "source": "trackingDf_castd = trackingDf.select(trackingDf['Total Installed Price'].cast(FloatType()),\n                                    trackingDf['System Size'].cast(FloatType())\n                                    , trackingDf['Sales Tax Cost'].cast(FloatType())\n                                    , trackingDf['Rebate or Grant'].cast(FloatType())\n                                    , trackingDf['Performance-Based Incentive (Annual Payment)'].cast(FloatType())\n                                    , trackingDf['Performance-Based Incentives (Duration)'].cast(FloatType())\n                                    , trackingDf['Feed-in Tariff (Annual Payment)'].cast(FloatType())\n                                    , trackingDf['Feed-in Tariff (Duration)'].cast(IntegerType())\n                                    , trackingDf['Module Efficiency #1'].cast(IntegerType())                                              \n                                    , trackingDf['Module Efficiency #2'].cast(IntegerType())                                              \n                                    , trackingDf['Module Efficiency #3'].cast(IntegerType())                                                                \n                                    )                                                                          "
        }, 
        {
            "execution_count": 25, 
            "cell_type": "code", 
            "metadata": {}, 
            "outputs": [
                {
                    "execution_count": 25, 
                    "metadata": {}, 
                    "data": {
                        "text/plain": "['Data Provider',\n 'System ID (from Data Provider)',\n 'System ID (Tracking the Sun)',\n 'Installation Date',\n 'System Size',\n 'Total Installed Price',\n 'Appraised Value Flag',\n 'Sales Tax Cost',\n 'Rebate or Grant',\n 'Performance-Based Incentive (Annual Payment)',\n 'Performance-Based Incentives (Duration)',\n 'Feed-in Tariff (Annual Payment)',\n 'Feed-in Tariff (Duration)',\n 'Customer Segment',\n 'New Construction',\n 'Tracking',\n 'Tracking Type',\n 'Ground Mounted',\n 'Battery System',\n 'Zip Code',\n 'City',\n 'County',\n 'State',\n 'Utility Service Territory',\n 'Third-Party Owned',\n 'Installer Name',\n 'Self-Installed',\n 'Azimuth #1',\n 'Azimuth #2',\n 'Azimuth #3',\n 'Tilt #1',\n 'Tilt #2',\n 'Tilt #3',\n 'Module Manufacturer #1',\n 'Module Model #1',\n 'Module Manufacturer #2',\n 'Module Model #2',\n 'Module Manufacturer #3',\n 'Module Model #3',\n 'Additional module model',\n 'Module Technology #1',\n 'Module Technology #2',\n 'Module Technology #3',\n 'BIPV Module #1',\n 'BIPV Module #2',\n 'BIPV Module #3',\n 'Module Efficiency #1',\n 'Module Efficiency #2',\n 'Module Efficiency #3',\n 'Inverter Manufacturer #1',\n 'Inverter Model #1',\n 'Inverter Quantity #1',\n 'Inverter Manufacturer #2',\n 'Inverter Model #2',\n 'Inverter Quantity #2',\n 'Inverter Manufacturer #3',\n 'Inverter Model #3',\n 'Inverter Quantity #3',\n 'Additional inverter model',\n 'Microinverter #1',\n 'Microinverter #2',\n 'Microinverter #3',\n 'DC Optimizer']"
                    }, 
                    "output_type": "execute_result"
                }
            ], 
            "source": "trackingDf.columns"
        }, 
        {
            "execution_count": 21, 
            "cell_type": "code", 
            "metadata": {
                "pixiedust": {
                    "displayParams": {
                        "handlerId": "tableView", 
                        "valueFields": "Total Installed Price", 
                        "keyFields": "System Size"
                    }
                }
            }, 
            "outputs": [
                {
                    "output_type": "display_data", 
                    "data": {
                        "text/html": "<style type=\"text/css\">.pd_warning{display:none;}</style><div class=\"pd_warning\"><em>Hey, there's something awesome here! To see it, open this notebook outside GitHub, in a viewer like Jupyter</em></div>\n        <div class=\"pd_save is-viewer-good\" style=\"padding-right:10px;text-align: center;line-height:initial !important;font-size: xx-large;font-weight: 500;color: coral;\">\n            \n        </div>\n    <div id=\"chartFiguree6267992\" class=\"pd_save is-viewer-good\" style=\"overflow-x:auto\">\n            <style type=\"text/css\" class=\"pd_save\">\n    .df-table-wrapper .panel-heading {\n      border-radius: 0;\n      padding: 0px;\n    }\n    .df-table-wrapper .panel-heading:hover {\n      border-color: #008571;\n    }\n    .df-table-wrapper .panel-title a {\n      background-color: #f9f9fb;\n      color: #333333;\n      display: block;\n      outline: none;\n      padding: 10px 15px;\n      text-decoration: none;\n    }\n    .df-table-wrapper .panel-title a:hover {\n      background-color: #337ab7;\n      border-color: #2e6da4;\n      color: #ffffff;\n      display: block;\n      padding: 10px 15px;\n      text-decoration: none;\n    }\n    .df-table-wrapper {\n      font-size: small;\n      font-weight: 300;\n      letter-spacing: 0.5px;\n      line-height: normal;\n      height: inherit;\n      overflow: auto;\n    }\n    .df-table-search {\n      margin: 0 0 20px 0;\n    }\n    .df-table-search-count {\n      display: inline-block;\n      margin: 0 0 20px 0;\n    }\n    .df-table-container {\n      max-height: 50vh;\n      max-width: 100%;\n      overflow-x: auto;\n      position: relative;\n    }\n    .df-table-wrapper table {\n      border: 0 none #ffffff;\n      border-collapse: collapse;\n      margin: 0;\n      min-width: 100%;\n      padding: 0;\n      table-layout: fixed;\n      height: inherit;\n      overflow: auto;\n    }\n    .df-table-wrapper tr.hidden {\n      display: none;\n    }\n    .df-table-wrapper tr:nth-child(even) {\n      background-color: #f9f9fb;\n    }\n    .df-table-wrapper tr.even {\n      background-color: #f9f9fb;\n    }\n    .df-table-wrapper tr.odd {\n      background-color: #ffffff;\n    }\n    .df-table-wrapper td + td {\n      border-left: 1px solid #e0e0e0;\n    }\n  \n    .df-table-wrapper thead,\n    .fixed-header {\n      font-weight: 600;\n    }\n    .df-table-wrapper tr,\n    .fixed-row {\n      border: 0 none #ffffff;\n      margin: 0;\n      padding: 0;\n    }\n    .df-table-wrapper th,\n    .df-table-wrapper td,\n    .fixed-cell {\n      border: 0 none #ffffff;\n      margin: 0;\n      min-width: 50px;\n      padding: 5px 20px 5px 10px;\n      text-align: left;\n      word-wrap: break-word;\n    }\n    .df-table-wrapper th {\n      padding-bottom: 0;\n      padding-top: 0;\n    }\n    .df-table-wrapper th div {\n      max-height: 1px;\n      visibility: hidden;\n    }\n  \n    .df-schema-field {\n      margin-left: 10px;\n    }\n  \n    .fixed-header-container {\n      overflow: hidden;\n      position: relative;\n    }\n    .fixed-header {\n      border-bottom: 2px solid #000;\n      display: table;\n      position: relative;\n    }\n    .fixed-row {\n      display: table-row;\n    }\n    .fixed-cell {\n      display: table-cell;\n    }\n  </style>\n  \n  \n  <div class=\"df-table-wrapper df-table-wrapper-e6267992 panel-group pd_save\">\n    <!-- dataframe schema -->\n    \n    <div class=\"panel panel-default\">\n      <div class=\"panel-heading\">\n        <h4 class=\"panel-title\" style=\"margin: 0px;\">\n          <a data-toggle=\"collapse\" href=\"#df-schema-e6267992\" data-parent=\"#df-table-wrapper-e6267992\">Schema</a>\n        </h4>\n      </div>\n      <div id=\"df-schema-e6267992\" class=\"panel-collapse collapse\">\n        <div class=\"panel-body\" style=\"font-family: monospace;\">\n          <div class=\"df-schema-fields\">\n            <div>Field types:</div>\n            \n              <div class=\"df-schema-field\"><strong>summary: </strong> object</div>\n            \n              <div class=\"df-schema-field\"><strong>Total Installed Price: </strong> object</div>\n            \n              <div class=\"df-schema-field\"><strong>System Size: </strong> object</div>\n            \n              <div class=\"df-schema-field\"><strong>Sales Tax Cost: </strong> object</div>\n            \n              <div class=\"df-schema-field\"><strong>Rebate or Grant: </strong> object</div>\n            \n              <div class=\"df-schema-field\"><strong>Performance-Based Incentive (Annual Payment): </strong> object</div>\n            \n              <div class=\"df-schema-field\"><strong>Performance-Based Incentives (Duration): </strong> object</div>\n            \n              <div class=\"df-schema-field\"><strong>Feed-in Tariff (Annual Payment): </strong> object</div>\n            \n              <div class=\"df-schema-field\"><strong>Feed-in Tariff (Duration): </strong> object</div>\n            \n              <div class=\"df-schema-field\"><strong>Module Efficiency #1: </strong> object</div>\n            \n              <div class=\"df-schema-field\"><strong>Module Efficiency #2: </strong> object</div>\n            \n              <div class=\"df-schema-field\"><strong>Module Efficiency #3: </strong> object</div>\n            \n          </div>\n        </div>\n      </div>\n    </div>\n    \n    <!-- dataframe table -->\n    <div class=\"panel panel-default\">\n      \n      <div class=\"panel-heading\">\n        <h4 class=\"panel-title\" style=\"margin: 0px;\">\n          <a data-toggle=\"collapse\" href=\"#df-table-e6267992\" data-parent=\"#df-table-wrapper-e6267992\"> Table</a>\n        </h4>\n      </div>\n      \n      <div id=\"df-table-e6267992\" class=\"panel-collapse collapse in\">\n        <div class=\"panel-body\">\n          \n          <input type=\"text\" class=\"df-table-search form-control input-sm\" placeholder=\"Search table\">\n          \n          <div>\n            \n            <span class=\"df-table-search-count\">Showing 5 of 5 rows</span>\n            \n          </div>\n          <!-- fixed header for when dataframe table scrolls -->\n          <div class=\"fixed-header-container\">\n            <div class=\"fixed-header\">\n              <div class=\"fixed-row\">\n                \n                <div class=\"fixed-cell\">summary</div>\n                \n                <div class=\"fixed-cell\">Total Installed Price</div>\n                \n                <div class=\"fixed-cell\">System Size</div>\n                \n                <div class=\"fixed-cell\">Sales Tax Cost</div>\n                \n                <div class=\"fixed-cell\">Rebate or Grant</div>\n                \n                <div class=\"fixed-cell\">Performance-Based Incentive (Annual Payment)</div>\n                \n                <div class=\"fixed-cell\">Performance-Based Incentives (Duration)</div>\n                \n                <div class=\"fixed-cell\">Feed-in Tariff (Annual Payment)</div>\n                \n                <div class=\"fixed-cell\">Feed-in Tariff (Duration)</div>\n                \n                <div class=\"fixed-cell\">Module Efficiency #1</div>\n                \n                <div class=\"fixed-cell\">Module Efficiency #2</div>\n                \n                <div class=\"fixed-cell\">Module Efficiency #3</div>\n                \n              </div>\n            </div>\n          </div>\n          <div class=\"df-table-container\">\n            <table class=\"df-table\">\n              <thead>\n                <tr>\n                  \n                  <th><div>summary</div></th>\n                  \n                  <th><div>Total Installed Price</div></th>\n                  \n                  <th><div>System Size</div></th>\n                  \n                  <th><div>Sales Tax Cost</div></th>\n                  \n                  <th><div>Rebate or Grant</div></th>\n                  \n                  <th><div>Performance-Based Incentive (Annual Payment)</div></th>\n                  \n                  <th><div>Performance-Based Incentives (Duration)</div></th>\n                  \n                  <th><div>Feed-in Tariff (Annual Payment)</div></th>\n                  \n                  <th><div>Feed-in Tariff (Duration)</div></th>\n                  \n                  <th><div>Module Efficiency #1</div></th>\n                  \n                  <th><div>Module Efficiency #2</div></th>\n                  \n                  <th><div>Module Efficiency #3</div></th>\n                  \n                </tr>\n              </thead>\n              <tbody>\n                \n                <tr>\n                  \n                  <td>count</td>\n                  \n                  <td>535445</td>\n                  \n                  <td>535445</td>\n                  \n                  <td>535445</td>\n                  \n                  <td>535445</td>\n                  \n                  <td>535445</td>\n                  \n                  <td>535445</td>\n                  \n                  <td>535445</td>\n                  \n                  <td>535445</td>\n                  \n                  <td>535421</td>\n                  \n                  <td>535444</td>\n                  \n                  <td>535445</td>\n                  \n                </tr>\n                \n                <tr>\n                  \n                  <td>mean</td>\n                  \n                  <td>53391.12752417413</td>\n                  \n                  <td>26.46287867808228</td>\n                  \n                  <td>1160.1415179901787</td>\n                  \n                  <td>1895.051495235391</td>\n                  \n                  <td>397.63731854954614</td>\n                  \n                  <td>0.05758948164610744</td>\n                  \n                  <td>0.0</td>\n                  \n                  <td>0.0</td>\n                  \n                  <td>-1334.9840872883208</td>\n                  \n                  <td>-9868.467189846184</td>\n                  \n                  <td>-9993.939295352464</td>\n                  \n                </tr>\n                \n                <tr>\n                  \n                  <td>stddev</td>\n                  \n                  <td>6591741.707723985</td>\n                  \n                  <td>5947.438191332911</td>\n                  \n                  <td>8556.86808465707</td>\n                  \n                  <td>26170.778064530277</td>\n                  \n                  <td>9512.704754793027</td>\n                  \n                  <td>0.8266549637917319</td>\n                  \n                  <td>0.0</td>\n                  \n                  <td>0.0</td>\n                  \n                  <td>3400.9329569722613</td>\n                  \n                  <td>1134.9718762959121</td>\n                  \n                  <td>224.8921285774028</td>\n                  \n                </tr>\n                \n                <tr>\n                  \n                  <td>min</td>\n                  \n                  <td>0.01</td>\n                  \n                  <td>0.12</td>\n                  \n                  <td>-9999.0</td>\n                  \n                  <td>-9999.0</td>\n                  \n                  <td>0.0</td>\n                  \n                  <td>0.0</td>\n                  \n                  <td>0.0</td>\n                  \n                  <td>0</td>\n                  \n                  <td>-9999</td>\n                  \n                  <td>-9999</td>\n                  \n                  <td>-9999</td>\n                  \n                </tr>\n                \n                <tr>\n                  \n                  <td>max</td>\n                  \n                  <td>4.8065848E9</td>\n                  \n                  <td>4001172.0</td>\n                  \n                  <td>655574.4</td>\n                  \n                  <td>4317390.0</td>\n                  \n                  <td>1742083.0</td>\n                  \n                  <td>20.0</td>\n                  \n                  <td>0.0</td>\n                  \n                  <td>0</td>\n                  \n                  <td>0</td>\n                  \n                  <td>0</td>\n                  \n                  <td>0</td>\n                  \n                </tr>\n                \n              </tbody>\n            </table>\n          </div>\n        </div>\n      </div>\n    </div>\n  </div>\n  \n  <script class=\"pd_save\">\n    $(function() {\n      var tableWrapper = $('.df-table-wrapper-e6267992');\n      var fixedHeader = $('.fixed-header', tableWrapper);\n      var tableContainer = $('.df-table-container', tableWrapper);\n      var table = $('.df-table', tableContainer);\n      var rows = $('tbody > tr', table);\n      var total = 5;\n  \n      fixedHeader\n        .css('width', table.width())\n        .find('.fixed-cell')\n        .each(function(i, e) {\n          $(this).css('width', $('.df-table-wrapper-e6267992 th:nth-child(' + (i+1) + ')').css('width'));\n        });\n  \n      tableContainer.scroll(function() {\n        fixedHeader.css({ left: table.position().left });\n      });\n  \n      rows.on(\"click\", function(e){\n          var txt = e.delegateTarget.innerText;\n          var splits = txt.split(\"\\t\");\n          var len = splits.length;\n          var hdrs = $(fixedHeader).find(\".fixed-cell\");\n          // Add all cells in the selected row as a map to be consumed by the target as needed\n          var payload = {type:\"select\", targetDivId: \"\" };\n          for (var i = 0; i < len; i++) {\n            payload[hdrs[i].innerHTML] = splits[i];\n          }\n  \n          //simple selection highlighting, client adds \"selected\" class\n          $(this).addClass(\"selected\").siblings().removeClass(\"selected\");\n          $(document).trigger('pd_event', payload);\n      });\n  \n      $('.df-table-search', tableWrapper).keyup(function() {\n        var val = '^(?=.*\\\\b' + $.trim($(this).val()).split(/\\s+/).join('\\\\b)(?=.*\\\\b') + ').*$';\n        var reg = RegExp(val, 'i');\n        var index = 0;\n        \n        rows.each(function(i, e) {\n          if (!reg.test($(this).text().replace(/\\s+/g, ' '))) {\n            $(this).attr('class', 'hidden');\n          }\n          else {\n            $(this).attr('class', (++index % 2 == 0 ? 'even' : 'odd'));\n          }\n        });\n        $('.df-table-search-count', tableWrapper).html('Showing ' + index + ' of ' + total + ' rows');\n      });\n    });\n  \n    $(\".df-table-wrapper td:contains('http://')\").each(function(){var tc = this.textContent; $(this).wrapInner(\"<a target='_blank' href='\" + tc + \"'></a>\");});\n    $(\".df-table-wrapper td:contains('https://')\").each(function(){var tc = this.textContent; $(this).wrapInner(\"<a target='_blank' href='\" + tc + \"'></a>\");});\n  </script>\n  \n        </div>", 
                        "text/plain": "<IPython.core.display.HTML object>"
                    }, 
                    "metadata": {}
                }
            ], 
            "source": "display(trackingDf_castd.describe())"
        }, 
        {
            "execution_count": 21, 
            "cell_type": "code", 
            "metadata": {}, 
            "outputs": [
                {
                    "execution_count": 21, 
                    "metadata": {}, 
                    "data": {
                        "text/plain": "Column<b'Total Installed Price'>"
                    }, 
                    "output_type": "execute_result"
                }
            ], 
            "source": "sampledf = trackingDf_castd.sample(False, 0.1, 42)\nsampledf.col('Total Installed Price')"
        }, 
        {
            "execution_count": 23, 
            "cell_type": "code", 
            "metadata": {
                "pixiedust": {
                    "displayParams": {
                        "rowCount": "500", 
                        "handlerId": "histogram", 
                        "valueFields": "Total Installed Price"
                    }
                }, 
                "scrolled": true
            }, 
            "outputs": [
                {
                    "output_type": "display_data", 
                    "data": {
                        "text/html": "<style type=\"text/css\">.pd_warning{display:none;}</style><div class=\"pd_warning\"><em>Hey, there's something awesome here! To see it, open this notebook outside GitHub, in a viewer like Jupyter</em></div>\n        <div class=\"pd_save is-viewer-good\" style=\"padding-right:10px;text-align: center;line-height:initial !important;font-size: xx-large;font-weight: 500;color: coral;\">\n            \n        </div>\n    <div id=\"chartFiguredfd5f19c\" class=\"pd_save is-viewer-good\" style=\"overflow-x:auto\">\n            \n                    \n                            <center><img style=\"max-width:initial !important\" src=\"data:image/png;base64,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\" class=\"pd_save\"></center>\n                        \n                    \n                \n        </div>", 
                        "text/plain": "<IPython.core.display.HTML object>"
                    }, 
                    "metadata": {}
                }
            ], 
            "source": "display(trackingDf_castd.sample(False, 0.2, 42))"
        }, 
        {
            "execution_count": 52, 
            "cell_type": "code", 
            "metadata": {
                "pixiedust": {
                    "displayParams": {
                        "handlerId": "histogram"
                    }
                }
            }, 
            "outputs": [
                {
                    "output_type": "stream", 
                    "name": "stdout", 
                    "text": "+-------+--------------------+\n|summary|Module Efficiency #2|\n+-------+--------------------+\n|  count|              700000|\n|   mean|  -9868.696663363797|\n| stddev|  1133.9959269370293|\n|    min|        -1.75018E-05|\n|    max|         0.220858896|\n+-------+--------------------+\n\n"
                }
            ], 
            "source": "df_data_1.select('Module Efficiency #2').describe().show()"
        }, 
        {
            "execution_count": 12, 
            "cell_type": "code", 
            "metadata": {}, 
            "outputs": [
                {
                    "output_type": "stream", 
                    "name": "stdout", 
                    "text": "+----------+\n|Azimuth #1|\n+----------+\n|     -9999|\n|     -9999|\n|     -9999|\n|     -9999|\n|     -9999|\n|     -9999|\n|     -9999|\n|     -9999|\n|     -9999|\n|     -9999|\n+----------+\nonly showing top 10 rows\n\n"
                }
            ], 
            "source": "df_data_1.select('Azimuth #1').show(10)"
        }, 
        {
            "execution_count": null, 
            "cell_type": "code", 
            "metadata": {}, 
            "outputs": [], 
            "source": ""
        }
    ], 
    "metadata": {
        "kernelspec": {
            "display_name": "Python 3.6 with Spark", 
            "name": "python36", 
            "language": "python3"
        }, 
        "language_info": {
            "mimetype": "text/x-python", 
            "nbconvert_exporter": "python", 
            "version": "3.6.8", 
            "name": "python", 
            "file_extension": ".py", 
            "pygments_lexer": "ipython3", 
            "codemirror_mode": {
                "version": 3, 
                "name": "ipython"
            }
        }
    }, 
    "nbformat": 4
}